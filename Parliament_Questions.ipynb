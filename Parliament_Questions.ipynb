{
 "cells": [
  {
   "cell_type": "markdown",
   "id": "b8477748",
   "metadata": {},
   "source": [
    "# Scraping India's Parliament Websites To Extract Questions and Answers\n",
    "\n",
    "During every Parliament session (Lok Sabha or Rajya Sabha), the first hour is called the Question Hour and is dedicated for members of parliament to ask questions to the ministers and to hold the government accountable. The answers that the government provides through these questions become a crucial source of data and information for journalists.\n",
    "\n",
    "In India, where official reports may be delayed or be unavailable online, Parliament Questions help journalists access latest data on a wide range of issues.\n",
    "\n",
    "This scraper scans <b>both the Lok Sabha and Rajya Sabha</b> pages to extract all the available questions and answers based on the ministry <b>with links to the answers</b>. The details are then exported to a csv file.\n",
    "\n",
    "<i>I have also mentioned all the ways the code can be customised and how to make changes if something goes wrong.</i>"
   ]
  },
  {
   "cell_type": "code",
   "execution_count": 1,
   "id": "d2412ea1",
   "metadata": {},
   "outputs": [
    {
     "name": "stderr",
     "output_type": "stream",
     "text": [
      "/Users/shreyaraman/.pyenv/versions/3.10.3/lib/python3.10/site-packages/requests/__init__.py:109: RequestsDependencyWarning: urllib3 (1.26.9) or chardet (5.0.0)/charset_normalizer (2.0.12) doesn't match a supported version!\n",
      "  warnings.warn(\n"
     ]
    }
   ],
   "source": [
    "import pandas as pd\n",
    "from bs4 import BeautifulSoup\n",
    "\n",
    "import time\n",
    "\n",
    "from selenium import webdriver\n",
    "from selenium.webdriver.common.by import By\n",
    "from selenium.webdriver.support.ui import WebDriverWait\n",
    "from selenium.webdriver.support import expected_conditions as EC\n",
    "from selenium.webdriver.support.ui import Select\n",
    "\n",
    "from webdriver_manager.firefox import GeckoDriverManager"
   ]
  },
  {
   "cell_type": "markdown",
   "id": "aab43603",
   "metadata": {},
   "source": [
    "I have imported the Firefox driver for selenium. <b>If you are using Chrome</b>, change the last line in the above chunk of code to \n",
    "```python\n",
    "from webdriver_manager.chrome import ChromeDriverManager\n",
    "```\n",
    "\n",
    "Also change the first line in the next chunk to \n",
    "```python\n",
    "driver = webdriver.Chrome(ChromeDriverManager().install())\n",
    "```"
   ]
  },
  {
   "cell_type": "code",
   "execution_count": 2,
   "id": "18c0a405",
   "metadata": {
    "scrolled": false
   },
   "outputs": [
    {
     "name": "stdout",
     "output_type": "stream",
     "text": [
      "\n"
     ]
    },
    {
     "name": "stderr",
     "output_type": "stream",
     "text": [
      "/var/folders/71/p219_qns5mv0bqxkh541lpl40000gn/T/ipykernel_26156/3328504527.py:1: DeprecationWarning: executable_path has been deprecated, please pass in a Service object\n",
      "  driver = webdriver.Firefox(executable_path=GeckoDriverManager().install())\n"
     ]
    }
   ],
   "source": [
    "driver = webdriver.Firefox(executable_path=GeckoDriverManager().install())"
   ]
  },
  {
   "cell_type": "markdown",
   "id": "de1f35d5",
   "metadata": {},
   "source": [
    "### Scraping Lok Sabha website"
   ]
  },
  {
   "cell_type": "code",
   "execution_count": 3,
   "id": "4d8be494",
   "metadata": {},
   "outputs": [],
   "source": [
    "driver.get(\"http://loksabhaph.nic.in/Questions/Qministrysearch.aspx\")"
   ]
  },
  {
   "cell_type": "markdown",
   "id": "81ed23e1",
   "metadata": {},
   "source": [
    "Right now, the scraper only extracts questions from <b>WOMEN AND CHILD DEVELOPMENT</b> ministry. Change the name of the ministry in the line of code below to get questions from other ministries. Typing the name in capital case should work. But I would suggest copy pasting the exact name from the [Lok Sabha website](http://loksabhaph.nic.in/Questions/Qministrysearch.aspx)"
   ]
  },
  {
   "cell_type": "code",
   "execution_count": 4,
   "id": "cbb29b4e",
   "metadata": {},
   "outputs": [],
   "source": [
    "Select(driver.find_element(By.ID, \"ContentPlaceHolder1_ddlministry\")).select_by_visible_text(\"WOMEN AND CHILD DEVELOPMENT\")"
   ]
  },
  {
   "cell_type": "code",
   "execution_count": 5,
   "id": "a4b63252",
   "metadata": {},
   "outputs": [],
   "source": [
    "driver.find_element(By.XPATH, '//*[@id=\"ContentPlaceHolder1_search1\"]').click()"
   ]
  },
  {
   "cell_type": "markdown",
   "id": "b6c049d0",
   "metadata": {},
   "source": [
    "The Lok Sabha website can be slow. <b>In case, only the first 10 or so questions are extracted, change the number in</b> ```time.sleep``` code. The numbers are in seconds. The default (1 minute) should be enough in most cases"
   ]
  },
  {
   "cell_type": "code",
   "execution_count": 6,
   "id": "985bcfdb",
   "metadata": {},
   "outputs": [],
   "source": [
    "driver.find_element(By.XPATH, '//*[@id=\"ContentPlaceHolder1_Button1\"]').click()\n",
    "time.sleep(60)"
   ]
  },
  {
   "cell_type": "code",
   "execution_count": 7,
   "id": "4c377b5a",
   "metadata": {},
   "outputs": [],
   "source": [
    "df=pd.read_html(driver.page_source)[2]"
   ]
  },
  {
   "cell_type": "code",
   "execution_count": 8,
   "id": "e0b57aff",
   "metadata": {},
   "outputs": [],
   "source": [
    "df=df.drop(0)\n",
    "df=df.drop(1)"
   ]
  },
  {
   "cell_type": "code",
   "execution_count": 9,
   "id": "37c3509b",
   "metadata": {},
   "outputs": [
    {
     "name": "stderr",
     "output_type": "stream",
     "text": [
      "/var/folders/71/p219_qns5mv0bqxkh541lpl40000gn/T/ipykernel_26156/3615018163.py:2: FutureWarning: The default value of regex will change from True to False in a future version.\n",
      "  df['Q.Type']=df['Q.Type'].str.replace(\"\\(Hindi\\)\", '')\n"
     ]
    }
   ],
   "source": [
    "df['Q.Type']=df['Q.Type'].str.replace(' PDF/WORD', '')\n",
    "df['Q.Type']=df['Q.Type'].str.replace(\"\\(Hindi\\)\", '')"
   ]
  },
  {
   "cell_type": "code",
   "execution_count": 10,
   "id": "34557229",
   "metadata": {},
   "outputs": [],
   "source": [
    "data=BeautifulSoup(driver.page_source)"
   ]
  },
  {
   "cell_type": "code",
   "execution_count": 11,
   "id": "1b32bb0a",
   "metadata": {},
   "outputs": [],
   "source": [
    "links=[]\n",
    "\n",
    "answers=data.find_all(\"a\", style=\"color:green;\")\n",
    "for answer in answers:\n",
    "    link=answer['href']\n",
    "    \n",
    "    links.append(link)\n",
    "    "
   ]
  },
  {
   "cell_type": "code",
   "execution_count": 12,
   "id": "66d8194b",
   "metadata": {},
   "outputs": [],
   "source": [
    "df['links']=links"
   ]
  },
  {
   "cell_type": "code",
   "execution_count": 13,
   "id": "d4f9be19",
   "metadata": {},
   "outputs": [],
   "source": [
    "df.to_csv(\"LS_WCD.csv\", index=False)"
   ]
  },
  {
   "cell_type": "markdown",
   "id": "0e676da7",
   "metadata": {},
   "source": [
    "### Scraping Rajya Sabha website\n",
    "\n",
    "If you are using Chrome, change the first line of code again in the chunk below. It should be\n",
    "\n",
    "```python\n",
    "driver = webdriver.Chrome(ChromeDriverManager().install())\n",
    "```"
   ]
  },
  {
   "cell_type": "code",
   "execution_count": 14,
   "id": "398e18c7",
   "metadata": {},
   "outputs": [
    {
     "name": "stdout",
     "output_type": "stream",
     "text": [
      "\n"
     ]
    },
    {
     "name": "stderr",
     "output_type": "stream",
     "text": [
      "/var/folders/71/p219_qns5mv0bqxkh541lpl40000gn/T/ipykernel_26156/1422479033.py:1: DeprecationWarning: executable_path has been deprecated, please pass in a Service object\n",
      "  driver = webdriver.Firefox(executable_path=GeckoDriverManager().install())\n"
     ]
    }
   ],
   "source": [
    "driver = webdriver.Firefox(executable_path=GeckoDriverManager().install())\n",
    "driver.get(\"https://rajyasabha.nic.in/Questions/IntegratedSearchForm\")"
   ]
  },
  {
   "cell_type": "markdown",
   "id": "ac062235",
   "metadata": {},
   "source": [
    "As for Lok Sabha questions, the scraper only extracts questions from <b>WOMEN AND CHILD DEVELOPMENT</b> ministry. Change the name of the ministry in the line of code below to get questions from other ministries. Typing the name in capital case should work. But I would suggest copy pasting the exact name from the [Rajya Sabha website](https://rajyasabha.nic.in/Questions/IntegratedSearchForm)"
   ]
  },
  {
   "cell_type": "code",
   "execution_count": 15,
   "id": "eee28c0f",
   "metadata": {},
   "outputs": [],
   "source": [
    "Select(driver.find_element(By.ID, \"ministrycode\")).select_by_visible_text(\"WOMEN AND CHILD DEVELOPMENT\")"
   ]
  },
  {
   "cell_type": "markdown",
   "id": "273da2cb",
   "metadata": {},
   "source": [
    "Here too, I have kept the <b>default wait time as 60 seconds</b>. It can be changed by modifying the ``` time.sleep``` code below"
   ]
  },
  {
   "cell_type": "code",
   "execution_count": 16,
   "id": "bda97322",
   "metadata": {},
   "outputs": [],
   "source": [
    "driver.find_element(By.XPATH, '//*[@id=\"show\"]').click()\n",
    "time.sleep(60)"
   ]
  },
  {
   "cell_type": "code",
   "execution_count": 17,
   "id": "bb165cae",
   "metadata": {},
   "outputs": [],
   "source": [
    "df=pd.read_html(driver.page_source)[0]"
   ]
  },
  {
   "cell_type": "code",
   "execution_count": 18,
   "id": "14b94401",
   "metadata": {},
   "outputs": [],
   "source": [
    "data=BeautifulSoup(driver.page_source)"
   ]
  },
  {
   "cell_type": "code",
   "execution_count": 19,
   "id": "5e2765d0",
   "metadata": {},
   "outputs": [],
   "source": [
    "links=[]\n",
    "answers=data.select(\"tr a\")\n",
    "\n",
    "for answer in answers:\n",
    "    if answer.text==\"English\":\n",
    "        link=answer['href']\n",
    "        \n",
    "        links.append(link)"
   ]
  },
  {
   "cell_type": "code",
   "execution_count": 20,
   "id": "ae60d9ef",
   "metadata": {},
   "outputs": [],
   "source": [
    "df['links']=links"
   ]
  },
  {
   "cell_type": "code",
   "execution_count": 21,
   "id": "1edb4284",
   "metadata": {},
   "outputs": [],
   "source": [
    "df = df.drop('Answer', axis=1)"
   ]
  },
  {
   "cell_type": "code",
   "execution_count": 22,
   "id": "2b303202",
   "metadata": {},
   "outputs": [],
   "source": [
    "df.to_csv(\"RS_WCD.csv\", index=False)"
   ]
  }
 ],
 "metadata": {
  "kernelspec": {
   "display_name": "Python 3 (ipykernel)",
   "language": "python",
   "name": "python3"
  },
  "language_info": {
   "codemirror_mode": {
    "name": "ipython",
    "version": 3
   },
   "file_extension": ".py",
   "mimetype": "text/x-python",
   "name": "python",
   "nbconvert_exporter": "python",
   "pygments_lexer": "ipython3",
   "version": "3.10.3"
  }
 },
 "nbformat": 4,
 "nbformat_minor": 5
}
